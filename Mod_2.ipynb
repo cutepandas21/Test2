{
 "cells": [
  {
   "cell_type": "code",
   "execution_count": 7,
   "metadata": {},
   "outputs": [
    {
     "name": "stdout",
     "output_type": "stream",
     "text": [
      "['e', 'n', 't', 'e', 'r', ' ', 'a', 'n', 'y', ' ', 'n', 'u', 'm', 'b', 'e', 'r', 's', ' ']\n"
     ]
    }
   ],
   "source": [
    "#module -2\n",
    "a = list(\"enter any numbers \")\n",
    "\n",
    "#b = hash((tuple(a))\n",
    "\n",
    "print(list(a))         \n",
    "\n",
    "         \n",
    "\n",
    "         "
   ]
  },
  {
   "cell_type": "code",
   "execution_count": 16,
   "metadata": {},
   "outputs": [
    {
     "name": "stdout",
     "output_type": "stream",
     "text": [
      "2\n",
      "5\n",
      "-7813438383599366905\n"
     ]
    }
   ],
   "source": [
    "n = int(input())\n",
    "li = []\n",
    "for x in input().split():\n",
    "    li.append(int(x))\n",
    "t = tuple(li)\n",
    "print(hash(t))"
   ]
  },
  {
   "cell_type": "code",
   "execution_count": 7,
   "metadata": {},
   "outputs": [
    {
     "name": "stdout",
     "output_type": "stream",
     "text": [
      "[4, 8, 12, 16, 20, 24, 28, 3, 6, 9, 12, 15, 18, 21]\n"
     ]
    }
   ],
   "source": [
    "list2 = [3, 6, 9, 12, 15, 18, 21]\n",
    "list1 = [4, 8, 12, 16, 20, 24, 28]\n",
    "\n",
    "l3 = list1+list2\n",
    "print(l3)"
   ]
  },
  {
   "cell_type": "code",
   "execution_count": 20,
   "metadata": {},
   "outputs": [
    {
     "ename": "SyntaxError",
     "evalue": "invalid syntax (<ipython-input-20-32c09441729e>, line 2)",
     "output_type": "error",
     "traceback": [
      "\u001b[0;36m  File \u001b[0;32m\"<ipython-input-20-32c09441729e>\"\u001b[0;36m, line \u001b[0;32m2\u001b[0m\n\u001b[0;31m    b=input()\u001b[0m\n\u001b[0m    ^\u001b[0m\n\u001b[0;31mSyntaxError\u001b[0m\u001b[0;31m:\u001b[0m invalid syntax\n"
     ]
    }
   ],
   "source": [
    "n = list(input(\"enter numbers :\")\n",
    "b=input()\n",
    "a = tuple(map(int, b.split(' ')))\n",
    "print(hash(a))"
   ]
  },
  {
   "cell_type": "code",
   "execution_count": 2,
   "metadata": {},
   "outputs": [
    {
     "name": "stdout",
     "output_type": "stream",
     "text": [
      "2\n",
      "3\n",
      "-5029647727744300836\n"
     ]
    }
   ],
   "source": [
    "if __name__ == '__main__':\n",
    "    n = int(input())\n",
    "    tn = input().split()\n",
    "    print(hash(tuple(int(i) for i in tn)))"
   ]
  },
  {
   "cell_type": "code",
   "execution_count": null,
   "metadata": {},
   "outputs": [],
   "source": []
  },
  {
   "cell_type": "code",
   "execution_count": 1,
   "metadata": {},
   "outputs": [
    {
     "name": "stdout",
     "output_type": "stream",
     "text": [
      "Enter You name :sri\n",
      "my name is : sri\n"
     ]
    }
   ],
   "source": [
    "fname = input(\"Enter You name :\")\n",
    "print(\"my name is :\", fname)"
   ]
  },
  {
   "cell_type": "code",
   "execution_count": 213,
   "metadata": {},
   "outputs": [
    {
     "name": "stdout",
     "output_type": "stream",
     "text": [
      "Original list  [11, 45, 8, 23, 14, 12, 78, 45, 89]\n",
      "After reversing it  [8, 45, 11]\n",
      "[8, 45, 11, 8, 45, 11, 8, 45, 11]\n",
      "After reversing it  [12, 14, 23]\n",
      "[12, 14, 23, 12, 14, 23, 12, 14, 23]\n",
      "After reversing it  [89, 45, 78]\n",
      "[89, 45, 78, 89, 45, 78, 89, 45, 78]\n"
     ]
    }
   ],
   "source": [
    "\n",
    "sampleList = [11, 45, 8, 23, 14, 12, 78, 45, 89]\n",
    "print(\"Original list \", sampleList)\n",
    "\n",
    "length = len(sampleList)\n",
    "chunkSize  = int(length/3)\n",
    "start = 0\n",
    "end = chunkSize\n",
    "for i in range(1, 4, 1):\n",
    "  indexes = slice(start, end, 1)\n",
    "  listChunk = sampleList[indexes]\n",
    "  #print(\"Chunk \", i , listChunk)\n",
    "  print(\"After reversing it \", list(reversed(listChunk)))\n",
    "  #print(list(reversed(listChunk).append(list(reversed(listChunk))))\n",
    "  #print(list(reversed(listChunk))                                        \n",
    "  #print(\"Reverse sorted list :\", sorted(listChunk, reverse=True))\n",
    "  #print((list(reversed(listChunk))) + (list(reversed(listChunk))) + (list(reversed(listChunk))))  \n",
    "  start = end\n",
    "  if(i != 2):\n",
    "    end +=chunkSize\n",
    "  else:\n",
    "    end += length - chunkSize \n",
    "    \n",
    "\n",
    "    #print(list1)\n",
    "#print(list(reversed(listChunk)))"
   ]
  },
  {
   "cell_type": "code",
   "execution_count": 71,
   "metadata": {},
   "outputs": [
    {
     "ename": "SyntaxError",
     "evalue": "invalid syntax (<ipython-input-71-cacb58e6208d>, line 19)",
     "output_type": "error",
     "traceback": [
      "\u001b[0;36m  File \u001b[0;32m\"<ipython-input-71-cacb58e6208d>\"\u001b[0;36m, line \u001b[0;32m19\u001b[0m\n\u001b[0;31m    if(i != 2) (end =  end + chunksize) else (end = length - chunkSize)] for i in range(1,4,1)]\u001b[0m\n\u001b[0m                                        ^\u001b[0m\n\u001b[0;31mSyntaxError\u001b[0m\u001b[0;31m:\u001b[0m invalid syntax\n"
     ]
    }
   ],
   "source": [
    "sampleList = [11, 45, 8, 23, 14, 12, 78, 45, 89]\n",
    "newlist = []\n",
    "length = len(sampleList)\n",
    "chunksize  = int(length/3)\n",
    "start = 0\n",
    "end = chunksize\n",
    "#for i in range(1, 4, 1):\n",
    "indexes = slice(start, end, 1)\n",
    "listchunk = sampleList[indexes]\n",
    "  #print(\"Chunk \", i , listChunk)\n",
    "  #print(\"After reversing it \", list(reversed(listChunk)))\n",
    "  #start = end\n",
    "  #if(i != 2):\n",
    "   # end +=chunkSize\n",
    "  #else:\n",
    "   # end += length - chunkSize \n",
    " \n",
    "newlist = [[i for i  in list(reversed(listchunk)) \n",
    "             if(i != 2) (end =  end + chunksize) else (end = length - chunkSize)] for i in range(1,4,1)]                    \n",
    "print(newlist)"
   ]
  },
  {
   "cell_type": "code",
   "execution_count": 46,
   "metadata": {},
   "outputs": [
    {
     "data": {
      "text/plain": [
       "[2, 3, 4, 1, 2, 8, 9, 7]"
      ]
     },
     "execution_count": 46,
     "metadata": {},
     "output_type": "execute_result"
    }
   ],
   "source": [
    "#LIST \n",
    "l= [2,3,4,1,2,8,9]\n",
    "l.append(7)\n",
    "l"
   ]
  },
  {
   "cell_type": "code",
   "execution_count": 32,
   "metadata": {},
   "outputs": [],
   "source": [
    "l.sort()"
   ]
  },
  {
   "cell_type": "code",
   "execution_count": 25,
   "metadata": {},
   "outputs": [
    {
     "data": {
      "text/plain": [
       "[1, 2, 2, 3, 4, 7, 8, 9]"
      ]
     },
     "execution_count": 25,
     "metadata": {},
     "output_type": "execute_result"
    }
   ],
   "source": [
    "l\n"
   ]
  },
  {
   "cell_type": "code",
   "execution_count": 80,
   "metadata": {},
   "outputs": [
    {
     "data": {
      "text/plain": [
       "[1, 2, 2]"
      ]
     },
     "execution_count": 80,
     "metadata": {},
     "output_type": "execute_result"
    }
   ],
   "source": [
    "l[:3]"
   ]
  },
  {
   "cell_type": "code",
   "execution_count": 81,
   "metadata": {},
   "outputs": [
    {
     "data": {
      "text/plain": [
       "[9, 8, 7, 4, 3, 2, 2, 1]"
      ]
     },
     "execution_count": 81,
     "metadata": {},
     "output_type": "execute_result"
    }
   ],
   "source": [
    "l[::-1]"
   ]
  },
  {
   "cell_type": "code",
   "execution_count": 86,
   "metadata": {},
   "outputs": [
    {
     "data": {
      "text/plain": [
       "[7, 8, 9]"
      ]
     },
     "execution_count": 86,
     "metadata": {},
     "output_type": "execute_result"
    }
   ],
   "source": [
    "l[-3:]"
   ]
  },
  {
   "cell_type": "code",
   "execution_count": 87,
   "metadata": {},
   "outputs": [],
   "source": [
    "l[0]=10"
   ]
  },
  {
   "cell_type": "code",
   "execution_count": 88,
   "metadata": {},
   "outputs": [
    {
     "data": {
      "text/plain": [
       "[10, 2, 2, 3, 4, 7, 8, 9]"
      ]
     },
     "execution_count": 88,
     "metadata": {},
     "output_type": "execute_result"
    }
   ],
   "source": [
    "l\n"
   ]
  },
  {
   "cell_type": "code",
   "execution_count": 89,
   "metadata": {},
   "outputs": [],
   "source": [
    "l[1:3]=[9,1]"
   ]
  },
  {
   "cell_type": "code",
   "execution_count": 90,
   "metadata": {},
   "outputs": [
    {
     "data": {
      "text/plain": [
       "[10, 9, 1, 3, 4, 7, 8, 9]"
      ]
     },
     "execution_count": 90,
     "metadata": {},
     "output_type": "execute_result"
    }
   ],
   "source": [
    "l\n"
   ]
  },
  {
   "cell_type": "code",
   "execution_count": 91,
   "metadata": {},
   "outputs": [
    {
     "data": {
      "text/plain": [
       "8"
      ]
     },
     "execution_count": 91,
     "metadata": {},
     "output_type": "execute_result"
    }
   ],
   "source": [
    "len(l)"
   ]
  },
  {
   "cell_type": "code",
   "execution_count": 92,
   "metadata": {},
   "outputs": [],
   "source": [
    "t=(3,4,1,4)"
   ]
  },
  {
   "cell_type": "code",
   "execution_count": 93,
   "metadata": {},
   "outputs": [
    {
     "data": {
      "text/plain": [
       "(3, 4, 1, 4)"
      ]
     },
     "execution_count": 93,
     "metadata": {},
     "output_type": "execute_result"
    }
   ],
   "source": [
    "t"
   ]
  },
  {
   "cell_type": "code",
   "execution_count": 94,
   "metadata": {},
   "outputs": [
    {
     "ename": "AttributeError",
     "evalue": "'tuple' object has no attribute 'append'",
     "output_type": "error",
     "traceback": [
      "\u001b[0;31m---------------------------------------------------------------------------\u001b[0m",
      "\u001b[0;31mAttributeError\u001b[0m                            Traceback (most recent call last)",
      "\u001b[0;32m<ipython-input-94-4b1efdab537d>\u001b[0m in \u001b[0;36m<module>\u001b[0;34m\u001b[0m\n\u001b[0;32m----> 1\u001b[0;31m \u001b[0mt\u001b[0m\u001b[0;34m.\u001b[0m\u001b[0mappend\u001b[0m\u001b[0;34m(\u001b[0m\u001b[0;36m8\u001b[0m\u001b[0;34m)\u001b[0m\u001b[0;34m\u001b[0m\u001b[0;34m\u001b[0m\u001b[0m\n\u001b[0m",
      "\u001b[0;31mAttributeError\u001b[0m: 'tuple' object has no attribute 'append'"
     ]
    }
   ],
   "source": [
    "t.append(8)"
   ]
  },
  {
   "cell_type": "code",
   "execution_count": 95,
   "metadata": {},
   "outputs": [
    {
     "data": {
      "text/plain": [
       "3"
      ]
     },
     "execution_count": 95,
     "metadata": {},
     "output_type": "execute_result"
    }
   ],
   "source": [
    "t[0]"
   ]
  },
  {
   "cell_type": "code",
   "execution_count": 96,
   "metadata": {},
   "outputs": [
    {
     "name": "stdout",
     "output_type": "stream",
     "text": [
      "List - [47, 64, 69, 37, 76, 83, 95, 97]\n",
      "Dictionary -  {'Jhon': 47, 'Emma': 69, 'Kelly': 76, 'Jason': 97}\n",
      "after removing unwanted elemnts from list  [47, 69, 76, 97]\n"
     ]
    }
   ],
   "source": [
    "rollNumber  = [47, 64, 69, 37, 76, 83, 95, 97]\n",
    "sampleDict  ={'Jhon':47, 'Emma':69, 'Kelly':76, 'Jason':97} \n",
    "\n",
    "print(\"List -\", rollNumber)\n",
    "print(\"Dictionary - \", sampleDict)\n",
    "\n",
    "rollNumber[:] = [item for item in rollNumber if item in sampleDict.values()]\n",
    "print(\"after removing unwanted elemnts from list \", rollNumber)"
   ]
  },
  {
   "cell_type": "code",
   "execution_count": 100,
   "metadata": {},
   "outputs": [
    {
     "name": "stdout",
     "output_type": "stream",
     "text": [
      "[47, 69, 76, 97]\n"
     ]
    }
   ],
   "source": [
    "rollnumber  = [47, 64, 69, 37, 76, 83, 95, 97]\n",
    "sampleDict  ={'Jhon':47, 'Emma':69, 'Kelly':76, 'Jason':97} \n",
    "\n",
    "rollnumber[:]= [item for item in rollnumber \n",
    "                if item in sampleDict.values()]\n",
    "print(rollnumber)"
   ]
  },
  {
   "cell_type": "code",
   "execution_count": 108,
   "metadata": {},
   "outputs": [
    {
     "name": "stdout",
     "output_type": "stream",
     "text": [
      "This is tuple : (100, 200, 300)\n"
     ]
    }
   ],
   "source": [
    "print('This is tuple : (100, 200, 300)')\n",
    "\n"
   ]
  },
  {
   "cell_type": "code",
   "execution_count": 122,
   "metadata": {},
   "outputs": [
    {
     "name": "stdout",
     "output_type": "stream",
     "text": [
      "<class 'tuple'>\n",
      "This is Tuple : ('satish',)\n",
      "This is string :  satish\n",
      "<class 'str'>\n"
     ]
    }
   ],
   "source": [
    "t = ('satish',)\n",
    "print(type(t))\n",
    "print('This is Tuple :' ,t)\n",
    "#converting to string\n",
    "st = ('satish')\n",
    "#print('Tuple is converted to string')\n",
    "print('This is string : ',st)\n",
    "print(type(st))"
   ]
  },
  {
   "cell_type": "code",
   "execution_count": 124,
   "metadata": {},
   "outputs": [
    {
     "data": {
      "text/plain": [
       "['aa', 'ddd', 'xxx', 'eee']"
      ]
     },
     "execution_count": 124,
     "metadata": {},
     "output_type": "execute_result"
    }
   ],
   "source": [
    "l1=['aa','ddd','xxx']\n",
    "l1.append('eee')\n",
    "l1\n"
   ]
  },
  {
   "cell_type": "code",
   "execution_count": 125,
   "metadata": {},
   "outputs": [],
   "source": [
    "l1.insert(2,'ooo')"
   ]
  },
  {
   "cell_type": "code",
   "execution_count": 126,
   "metadata": {},
   "outputs": [
    {
     "data": {
      "text/plain": [
       "['aa', 'ddd', 'ooo', 'xxx', 'eee']"
      ]
     },
     "execution_count": 126,
     "metadata": {},
     "output_type": "execute_result"
    }
   ],
   "source": [
    "l1"
   ]
  },
  {
   "cell_type": "code",
   "execution_count": 127,
   "metadata": {},
   "outputs": [],
   "source": [
    "l1.remove('ddd')"
   ]
  },
  {
   "cell_type": "code",
   "execution_count": 128,
   "metadata": {},
   "outputs": [
    {
     "data": {
      "text/plain": [
       "['aa', 'ooo', 'xxx', 'eee']"
      ]
     },
     "execution_count": 128,
     "metadata": {},
     "output_type": "execute_result"
    }
   ],
   "source": [
    "l1"
   ]
  },
  {
   "cell_type": "code",
   "execution_count": 134,
   "metadata": {},
   "outputs": [
    {
     "name": "stdout",
     "output_type": "stream",
     "text": [
      "['aa', 'ooo', 'xxx', 'eee', ['qwq', 'dfr', 'ere'], ['qwq', 'dfr', 'ere'], ['qwq', 'dfr', 'ere'], ['qwq', 'dfr', 'ere'], ['qwq', 'dfr', 'ere']]\n"
     ]
    }
   ],
   "source": [
    "l2 =['qwq','dfr','ere']\n",
    "l1.append(l2)\n",
    "print(l1)"
   ]
  },
  {
   "cell_type": "code",
   "execution_count": 137,
   "metadata": {},
   "outputs": [
    {
     "name": "stdout",
     "output_type": "stream",
     "text": [
      "['aa', 'ooo', 'xxx', 'eee', ['qwq', 'dfr', 'ere'], ['qwq', 'dfr', 'ere'], ['qwq', 'dfr', 'ere'], ['qwq', 'dfr', 'ere'], ['qwq', 'dfr', 'ere'], 'qwq', 'dfr', 'ere', 'qwq', 'dfr', 'ere', 'qwq', 'dfr', 'ere']\n"
     ]
    }
   ],
   "source": [
    "l1.extend(l2) # will join the list\n",
    "print(l1)"
   ]
  },
  {
   "cell_type": "code",
   "execution_count": 139,
   "metadata": {},
   "outputs": [],
   "source": [
    "del l1[1] #del to remove item based on index position"
   ]
  },
  {
   "cell_type": "code",
   "execution_count": 141,
   "metadata": {},
   "outputs": [
    {
     "name": "stdout",
     "output_type": "stream",
     "text": [
      "['aa', 'xxx', 'eee', ['qwq', 'dfr', 'ere'], ['qwq', 'dfr', 'ere'], ['qwq', 'dfr', 'ere'], ['qwq', 'dfr', 'ere'], ['qwq', 'dfr', 'ere'], 'qwq', 'dfr', 'ere', 'qwq', 'dfr', 'ere', 'qwq', 'dfr', 'ere']\n"
     ]
    }
   ],
   "source": [
    "print(l1)"
   ]
  },
  {
   "cell_type": "code",
   "execution_count": 142,
   "metadata": {},
   "outputs": [],
   "source": [
    "l4 = l1.pop(1)we can use pop() method"
   ]
  },
  {
   "cell_type": "code",
   "execution_count": 143,
   "metadata": {},
   "outputs": [
    {
     "name": "stdout",
     "output_type": "stream",
     "text": [
      "xxx\n"
     ]
    }
   ],
   "source": [
    "print(l4)"
   ]
  },
  {
   "cell_type": "code",
   "execution_count": 145,
   "metadata": {},
   "outputs": [
    {
     "name": "stdout",
     "output_type": "stream",
     "text": [
      "['aa', 'eee', ['qwq', 'dfr', 'ere'], ['qwq', 'dfr', 'ere'], ['qwq', 'dfr', 'ere'], ['qwq', 'dfr', 'ere'], ['qwq', 'dfr', 'ere'], 'qwq', 'dfr', 'ere', 'qwq', 'dfr', 'ere', 'qwq', 'dfr', 'ere']\n"
     ]
    }
   ],
   "source": [
    "print(l1)\n"
   ]
  },
  {
   "cell_type": "code",
   "execution_count": 147,
   "metadata": {},
   "outputs": [
    {
     "name": "stdout",
     "output_type": "stream",
     "text": [
      "['eee', ['qwq', 'dfr', 'ere'], ['qwq', 'dfr', 'ere'], ['qwq', 'dfr', 'ere'], ['qwq', 'dfr', 'ere'], ['qwq', 'dfr', 'ere'], 'qwq', 'dfr', 'ere', 'qwq', 'dfr', 'ere', 'qwq', 'dfr', 'ere']\n"
     ]
    }
   ],
   "source": [
    "l1.remove('aa')#remove an item from list\n",
    "print(l1)"
   ]
  },
  {
   "cell_type": "code",
   "execution_count": 148,
   "metadata": {},
   "outputs": [
    {
     "name": "stdout",
     "output_type": "stream",
     "text": [
      "yes\n"
     ]
    }
   ],
   "source": [
    "#keyword 'in' is used to test if an item is in a list\n",
    "\n",
    "a1 = ['aa','dd','ttt']\n",
    "\n",
    "if 'aa' in a1:\n",
    "    print('yes')\n"
   ]
  },
  {
   "cell_type": "code",
   "execution_count": 149,
   "metadata": {},
   "outputs": [
    {
     "name": "stdout",
     "output_type": "stream",
     "text": [
      "no\n"
     ]
    }
   ],
   "source": [
    "if 'ee' not in a1:\n",
    "    print('no')"
   ]
  },
  {
   "cell_type": "code",
   "execution_count": 150,
   "metadata": {},
   "outputs": [
    {
     "name": "stdout",
     "output_type": "stream",
     "text": [
      "['ttt', 'dd', 'aa']\n"
     ]
    }
   ],
   "source": [
    "a1.reverse()\n",
    "print(a1)"
   ]
  },
  {
   "cell_type": "code",
   "execution_count": 151,
   "metadata": {},
   "outputs": [
    {
     "name": "stdout",
     "output_type": "stream",
     "text": [
      "[1, 2, 2, 5, 5, 8, 9]\n"
     ]
    }
   ],
   "source": [
    "num= [2,5,1,8,5,2,9]\n",
    "num1 = sorted(num)\n",
    "print(num1)"
   ]
  },
  {
   "cell_type": "code",
   "execution_count": 154,
   "metadata": {},
   "outputs": [
    {
     "name": "stdout",
     "output_type": "stream",
     "text": [
      "reverse order :  [9, 8, 5, 5, 2, 2, 1]\n"
     ]
    }
   ],
   "source": [
    "print('reverse order : ', sorted(num, reverse = True))"
   ]
  },
  {
   "cell_type": "markdown",
   "metadata": {},
   "source": [
    "n1= num\n",
    "n1.append(1)\n",
    "print(n1)"
   ]
  },
  {
   "cell_type": "code",
   "execution_count": 157,
   "metadata": {},
   "outputs": [
    {
     "name": "stdout",
     "output_type": "stream",
     "text": [
      "[2, 5, 1, 8, 5, 2, 9, 1, 11]\n"
     ]
    }
   ],
   "source": [
    "n1=num\n",
    "n1.append(11)\n",
    "print(n1)"
   ]
  },
  {
   "cell_type": "code",
   "execution_count": 158,
   "metadata": {},
   "outputs": [
    {
     "name": "stdout",
     "output_type": "stream",
     "text": [
      "[2, 5, 1, 8, 5, 2, 9, 1, 11]\n"
     ]
    }
   ],
   "source": [
    "print(num)"
   ]
  },
  {
   "cell_type": "code",
   "execution_count": 161,
   "metadata": {},
   "outputs": [
    {
     "name": "stdout",
     "output_type": "stream",
     "text": [
      "['abc', 'dcf', 'ref', 'gtf']\n"
     ]
    }
   ],
   "source": [
    "j = \"abc,dcf,ref,gtf\"\n",
    "a =j.split(',')\n",
    "print(a)"
   ]
  },
  {
   "cell_type": "code",
   "execution_count": 162,
   "metadata": {},
   "outputs": [
    {
     "name": "stdout",
     "output_type": "stream",
     "text": [
      "['This', 'is', 'good', 'day']\n"
     ]
    }
   ],
   "source": [
    "q= \"This is good day\"\n",
    "w= q.split()\n",
    "print(w)"
   ]
  },
  {
   "cell_type": "code",
   "execution_count": 163,
   "metadata": {},
   "outputs": [
    {
     "name": "stdout",
     "output_type": "stream",
     "text": [
      "[2, 5, 1, 8, 5, 2, 9, 1, 11]\n"
     ]
    }
   ],
   "source": [
    "print(num)"
   ]
  },
  {
   "cell_type": "code",
   "execution_count": 165,
   "metadata": {},
   "outputs": [
    {
     "name": "stdout",
     "output_type": "stream",
     "text": [
      "[2, 1, 5, 9, 11]\n"
     ]
    }
   ],
   "source": [
    "print(num[::2])"
   ]
  },
  {
   "cell_type": "code",
   "execution_count": 171,
   "metadata": {},
   "outputs": [
    {
     "name": "stdout",
     "output_type": "stream",
     "text": [
      "[4, 2, 6, 7]\n"
     ]
    }
   ],
   "source": [
    "num2 = [3,4,1,2,8,6,5,7,9]\n",
    "print(num2[1::2])"
   ]
  },
  {
   "cell_type": "code",
   "execution_count": 228,
   "metadata": {},
   "outputs": [
    {
     "name": "stdout",
     "output_type": "stream",
     "text": [
      "8\n",
      "[2, 5, 1, 9, 4, 2, 6, 7]\n"
     ]
    }
   ],
   "source": [
    "num1 = [2,3,5,6,1,8,9,1]\n",
    "num2 = [3,4,1,2,8,6,5,7]\n",
    "\n",
    "n = len(num1)\n",
    "m = len(num2)\n",
    "#for i in num1:\n",
    "print((num1[::2]) + (num2[1::2]))\n",
    "\n",
    "#r = zip(num1, num2)\n"
   ]
  },
  {
   "cell_type": "code",
   "execution_count": 224,
   "metadata": {},
   "outputs": [
    {
     "name": "stdout",
     "output_type": "stream",
     "text": [
      "First List  [2, 3, 4, 5, 6, 7, 8]\n",
      "Second List  [4, 9, 16, 25, 36, 49, 64]\n",
      "<zip object at 0x7f8a4f4e7480>\n",
      "{(7, 49), (2, 4), (4, 16), (8, 64), (6, 36), (3, 9), (5, 25)}\n"
     ]
    }
   ],
   "source": [
    "firstList = [2, 3, 4, 5, 6, 7, 8]\n",
    "print(\"First List \", firstList)\n",
    "\n",
    "secondList = [4, 9, 16, 25, 36, 49, 64]\n",
    "print(\"Second List \", secondList)\n",
    "\n",
    "result = zip(firstList, secondList)\n",
    "print(result)\n",
    "resultSet = set(result)\n",
    "print(resultSet)"
   ]
  },
  {
   "cell_type": "code",
   "execution_count": 4,
   "metadata": {},
   "outputs": [
    {
     "name": "stdout",
     "output_type": "stream",
     "text": [
      "Element at odd-index positions from list one\n",
      "[6, 12, 18]\n",
      "Element at even-index positions from list two\n",
      "[4, 12, 20, 28]\n",
      "Printing Final third list\n",
      "[6, 12, 18]\n",
      "[6, 12, 18, 4, 12, 20, 28]\n"
     ]
    }
   ],
   "source": [
    "listOne = [3, 6, 9, 12, 15, 18, 21]\n",
    "listTwo = [4, 8, 12, 16, 20, 24, 28]\n",
    "listThree = []\n",
    "\n",
    "oddElements = listOne[1::2]\n",
    "print(\"Element at odd-index positions from list one\")\n",
    "print(oddElements)\n",
    "\n",
    "EvenElement = listTwo[0::2]\n",
    "print(\"Element at even-index positions from list two\")\n",
    "print(EvenElement)\n",
    "\n",
    "print(\"Printing Final third list\")\n",
    "listThree.extend(oddElements)\n",
    "print(listThree)\n",
    "listThree.extend(EvenElement)\n",
    "print(listThree)"
   ]
  },
  {
   "cell_type": "code",
   "execution_count": 245,
   "metadata": {},
   "outputs": [
    {
     "name": "stdout",
     "output_type": "stream",
     "text": [
      "Element at odd-index positions from list one\n",
      "[6, 12, 18]\n",
      "Element at even-index positions from list two\n",
      "[4, 12, 20, 28]\n",
      "Printing Final third list\n",
      "[6, 12, 18, 4, 12, 20, 28]\n"
     ]
    }
   ],
   "source": [
    "listOne = [3, 6, 9, 12, 15, 18, 21]\n",
    "listTwo = [4, 8, 12, 16, 20, 24, 28]\n",
    "listThree = list()\n",
    "\n",
    "oddElements = listOne[1::2]\n",
    "print(\"Element at odd-index positions from list one\")\n",
    "print(oddElements)\n",
    "\n",
    "oddElements = listOne[1::2]\n",
    "print(\"Element at even-index positions from list two\")\n",
    "print(EvenElement)\n",
    "\n",
    "print(\"Printing Final third list\")\n",
    "listThree.extend(oddElements)\n",
    "listThree.extend(EvenElement)\n",
    "print(listThree)"
   ]
  },
  {
   "cell_type": "code",
   "execution_count": 1,
   "metadata": {},
   "outputs": [
    {
     "name": "stdout",
     "output_type": "stream",
     "text": [
      "[0, 1, 4, 9, 16, 25, 36, 49, 64, 81]\n"
     ]
    }
   ],
   "source": [
    "#squares without list comprehension\n",
    "\n",
    "seq=[]\n",
    "\n",
    "for i in range(10):\n",
    "    seq.append(i**2)\n",
    "print(seq)"
   ]
  },
  {
   "cell_type": "code",
   "execution_count": null,
   "metadata": {},
   "outputs": [],
   "source": [
    "#witn list comprehension\n",
    "\n",
    "seq = [i**2 for i in range(10)]\n",
    "print(seq)"
   ]
  },
  {
   "cell_type": "code",
   "execution_count": 5,
   "metadata": {},
   "outputs": [
    {
     "name": "stdout",
     "output_type": "stream",
     "text": [
      "[-20, -40, 20, 40, 100]\n"
     ]
    }
   ],
   "source": [
    "#double the numbers\n",
    "lst = [-10, -20, 10, 20, 50]\n",
    "llst=lst\n",
    "#for i in lst:\n",
    " #   lst.append(i*2)\n",
    "   #  llst.append(1*2)\n",
    "#print(llst)\n",
    "\n",
    "new_lst = [i*2 for i in lst]\n",
    "print(new_lst)\n"
   ]
  },
  {
   "cell_type": "code",
   "execution_count": 3,
   "metadata": {},
   "outputs": [
    {
     "name": "stdout",
     "output_type": "stream",
     "text": [
      "[(0, 0), (1, 1), (2, 4), (3, 9), (4, 16), (5, 25), (6, 36), (7, 49), (8, 64), (9, 81)]\n"
     ]
    }
   ],
   "source": [
    "#create a list of tuples like (number, square_of_number)\n",
    "nu = [(i,i**2) for i in range(10)]\n",
    "print(nu)"
   ]
  },
  {
   "cell_type": "code",
   "execution_count": 3,
   "metadata": {},
   "outputs": [
    {
     "name": "stdout",
     "output_type": "stream",
     "text": [
      "[10, 20, 50]\n"
     ]
    }
   ],
   "source": [
    "\n",
    "#to exclude negative numbers\n",
    "lst = [-10, -20, 10, 20, 50]\n",
    "num = [i for  i in lst if i >= 0]\n",
    "print(num)\n"
   ]
  },
  {
   "cell_type": "code",
   "execution_count": 14,
   "metadata": {},
   "outputs": [
    {
     "name": "stdout",
     "output_type": "stream",
     "text": [
      "[[1, 5, 9], [2, 6, 10], [3, 7, 11], [4, 8, 12]]\n"
     ]
    }
   ],
   "source": [
    "#Transposed matrix\n",
    "\n",
    "matrix = [\n",
    "    [1, 2, 3, 4],\n",
    "    [5, 6, 7, 8],\n",
    "    [9, 10, 11, 12]\n",
    "]\n",
    "\n",
    "row = []\n",
    "transposed = []\n",
    "transposed = [[row[i] for row in matrix] for i in range(4)]\n",
    "print(transposed)              "
   ]
  },
  {
   "cell_type": "code",
   "execution_count": 20,
   "metadata": {},
   "outputs": [
    {
     "name": "stdout",
     "output_type": "stream",
     "text": [
      "[[6, 12, 18], [6, 12, 18], [6, 12, 18], [6, 12, 18]]\n"
     ]
    }
   ],
   "source": [
    "listOne = [3, 6, 9, 12, 15, 18, 21]\n",
    "listTwo = [4, 8, 12, 16, 20, 24, 28]\n",
    "listThree = []\n",
    "#oddElements = listOne[1::2]\n",
    "#oddElements = listOne[1::2]\n",
    "\n",
    "listThree = [[ i for i in listOne[1::2] ]for i in listTwo[0::2]]\n",
    "print(listThree)"
   ]
  },
  {
   "cell_type": "code",
   "execution_count": 1,
   "metadata": {},
   "outputs": [
    {
     "name": "stdout",
     "output_type": "stream",
     "text": [
      "[[1, 5, 9], [2, 6, 10], [3, 7, 11], [4, 8, 12]]\n"
     ]
    }
   ],
   "source": [
    "#let's suppose we have a matrix\n",
    "\n",
    "matrix = [\n",
    "    [1, 2, 3, 4],\n",
    "    [5, 6, 7, 8],\n",
    "    [9, 10, 11, 12]\n",
    "]\n",
    "\n",
    "#transpose of a matrix without list comprehension\n",
    "transposed = []\n",
    "for i in range(4):\n",
    "    lst = []\n",
    "    for row in matrix:\n",
    "        lst.append(row[i])\n",
    "    transposed.append(lst)\n",
    "\n",
    "print(transposed)\n"
   ]
  },
  {
   "cell_type": "code",
   "execution_count": 2,
   "metadata": {},
   "outputs": [],
   "source": [
    "listOne = [3, 6, 9, 12, 15, 18, 21]\n",
    "listTwo = [4, 8, 12, 16, 20, 24, 28]\n",
    "listThree = list()\n",
    "\n"
   ]
  },
  {
   "cell_type": "code",
   "execution_count": 3,
   "metadata": {},
   "outputs": [
    {
     "name": "stdout",
     "output_type": "stream",
     "text": [
      "(1, 2, 3, 1)\n"
     ]
    }
   ],
   "source": [
    "#tuple\n",
    "\n",
    "t = (1,2,3,1)\n",
    "print(t)"
   ]
  },
  {
   "cell_type": "code",
   "execution_count": 4,
   "metadata": {},
   "outputs": [
    {
     "ename": "AttributeError",
     "evalue": "'tuple' object has no attribute 'append'",
     "output_type": "error",
     "traceback": [
      "\u001b[0;31m---------------------------------------------------------------------------\u001b[0m",
      "\u001b[0;31mAttributeError\u001b[0m                            Traceback (most recent call last)",
      "\u001b[0;32m<ipython-input-4-5ee6986d46d4>\u001b[0m in \u001b[0;36m<module>\u001b[0;34m\u001b[0m\n\u001b[0;32m----> 1\u001b[0;31m \u001b[0mt\u001b[0m\u001b[0;34m.\u001b[0m\u001b[0mappend\u001b[0m\u001b[0;34m(\u001b[0m\u001b[0;36m8\u001b[0m\u001b[0;34m)\u001b[0m\u001b[0;34m\u001b[0m\u001b[0;34m\u001b[0m\u001b[0m\n\u001b[0m\u001b[1;32m      2\u001b[0m \u001b[0mprint\u001b[0m\u001b[0;34m(\u001b[0m\u001b[0mt\u001b[0m\u001b[0;34m)\u001b[0m\u001b[0;34m\u001b[0m\u001b[0;34m\u001b[0m\u001b[0m\n",
      "\u001b[0;31mAttributeError\u001b[0m: 'tuple' object has no attribute 'append'"
     ]
    }
   ],
   "source": [
    "t.append(8)\n",
    "print(t)"
   ]
  },
  {
   "cell_type": "code",
   "execution_count": 5,
   "metadata": {},
   "outputs": [
    {
     "data": {
      "text/plain": [
       "str"
      ]
     },
     "execution_count": 5,
     "metadata": {},
     "output_type": "execute_result"
    }
   ],
   "source": [
    "t=('aaaa')\n",
    "type(t)"
   ]
  },
  {
   "cell_type": "code",
   "execution_count": 7,
   "metadata": {},
   "outputs": [
    {
     "data": {
      "text/plain": [
       "tuple"
      ]
     },
     "execution_count": 7,
     "metadata": {},
     "output_type": "execute_result"
    }
   ],
   "source": [
    "t=('aaa',)\n",
    "type(t)"
   ]
  },
  {
   "cell_type": "code",
   "execution_count": 8,
   "metadata": {},
   "outputs": [
    {
     "data": {
      "text/plain": [
       "str"
      ]
     },
     "execution_count": 8,
     "metadata": {},
     "output_type": "execute_result"
    }
   ],
   "source": [
    "t=\"aaa\"\n",
    "type(t)"
   ]
  },
  {
   "cell_type": "code",
   "execution_count": 9,
   "metadata": {},
   "outputs": [
    {
     "data": {
      "text/plain": [
       "tuple"
      ]
     },
     "execution_count": 9,
     "metadata": {},
     "output_type": "execute_result"
    }
   ],
   "source": [
    "t=\"aaa\",\n",
    "type(t)"
   ]
  },
  {
   "cell_type": "code",
   "execution_count": 10,
   "metadata": {},
   "outputs": [
    {
     "name": "stdout",
     "output_type": "stream",
     "text": [
      "<class 'tuple'>\n"
     ]
    }
   ],
   "source": [
    "print(type(t))"
   ]
  },
  {
   "cell_type": "code",
   "execution_count": 11,
   "metadata": {},
   "outputs": [
    {
     "name": "stdout",
     "output_type": "stream",
     "text": [
      "('aaa',)\n"
     ]
    }
   ],
   "source": [
    "print(t)"
   ]
  },
  {
   "cell_type": "code",
   "execution_count": 14,
   "metadata": {},
   "outputs": [
    {
     "name": "stdout",
     "output_type": "stream",
     "text": [
      "(1, 2, [3, 9])\n"
     ]
    }
   ],
   "source": [
    "t=(1,2,[3,4])\n",
    "t[2][1] = 9\n",
    "print(t)"
   ]
  },
  {
   "cell_type": "code",
   "execution_count": 15,
   "metadata": {},
   "outputs": [],
   "source": [
    "del t"
   ]
  },
  {
   "cell_type": "code",
   "execution_count": 16,
   "metadata": {},
   "outputs": [
    {
     "ename": "NameError",
     "evalue": "name 't' is not defined",
     "output_type": "error",
     "traceback": [
      "\u001b[0;31m---------------------------------------------------------------------------\u001b[0m",
      "\u001b[0;31mNameError\u001b[0m                                 Traceback (most recent call last)",
      "\u001b[0;32m<ipython-input-16-febd3e668534>\u001b[0m in \u001b[0;36m<module>\u001b[0;34m\u001b[0m\n\u001b[0;32m----> 1\u001b[0;31m \u001b[0mprint\u001b[0m\u001b[0;34m(\u001b[0m\u001b[0mt\u001b[0m\u001b[0;34m)\u001b[0m\u001b[0;34m\u001b[0m\u001b[0;34m\u001b[0m\u001b[0m\n\u001b[0m",
      "\u001b[0;31mNameError\u001b[0m: name 't' is not defined"
     ]
    }
   ],
   "source": [
    "print(t)"
   ]
  },
  {
   "cell_type": "code",
   "execution_count": 22,
   "metadata": {},
   "outputs": [
    {
     "name": "stdout",
     "output_type": "stream",
     "text": [
      "False\n"
     ]
    }
   ],
   "source": [
    "print(bool(0))"
   ]
  },
  {
   "cell_type": "code",
   "execution_count": 25,
   "metadata": {},
   "outputs": [
    {
     "name": "stdout",
     "output_type": "stream",
     "text": [
      "[1, 2, 3, 5, 6, 9]\n"
     ]
    }
   ],
   "source": [
    "t=(6,5,1,3,9,2)\n",
    "nt = sorted(t)\n",
    "print(sorted(t))"
   ]
  },
  {
   "cell_type": "code",
   "execution_count": 27,
   "metadata": {},
   "outputs": [
    {
     "name": "stdout",
     "output_type": "stream",
     "text": [
      "(6, 5, 1, 3, 9, 2)\n"
     ]
    }
   ],
   "source": [
    "print(t)"
   ]
  },
  {
   "cell_type": "code",
   "execution_count": 28,
   "metadata": {},
   "outputs": [
    {
     "name": "stdout",
     "output_type": "stream",
     "text": [
      "26\n"
     ]
    }
   ],
   "source": [
    "print(sum(t))"
   ]
  },
  {
   "cell_type": "code",
   "execution_count": 29,
   "metadata": {},
   "outputs": [
    {
     "name": "stdout",
     "output_type": "stream",
     "text": [
      "9\n"
     ]
    }
   ],
   "source": [
    "print(max(t))"
   ]
  },
  {
   "cell_type": "code",
   "execution_count": 30,
   "metadata": {},
   "outputs": [
    {
     "name": "stdout",
     "output_type": "stream",
     "text": [
      "1\n"
     ]
    }
   ],
   "source": [
    "print(min(t))"
   ]
  },
  {
   "cell_type": "code",
   "execution_count": 38,
   "metadata": {},
   "outputs": [
    {
     "name": "stdout",
     "output_type": "stream",
     "text": [
      "8th\n"
     ]
    }
   ],
   "source": [
    "#dictionaries\n",
    "dic = {'name':'aaa','cl':'8th','st':'qwe'}\n",
    "print(dic['cl'])\n",
    "\n"
   ]
  },
  {
   "cell_type": "code",
   "execution_count": 39,
   "metadata": {},
   "outputs": [
    {
     "name": "stdout",
     "output_type": "stream",
     "text": [
      "121\n"
     ]
    }
   ],
   "source": [
    "dic = {'code':'121'}\n",
    "print(dic['code'])"
   ]
  },
  {
   "cell_type": "code",
   "execution_count": 40,
   "metadata": {},
   "outputs": [
    {
     "name": "stdout",
     "output_type": "stream",
     "text": [
      "{'code': '121'}\n"
     ]
    }
   ],
   "source": [
    "dic2 = dic.copy()\n",
    "print(dic2)"
   ]
  },
  {
   "cell_type": "code",
   "execution_count": 41,
   "metadata": {},
   "outputs": [
    {
     "name": "stdout",
     "output_type": "stream",
     "text": [
      "{'code': '121'}\n"
     ]
    }
   ],
   "source": [
    "print(dic)"
   ]
  },
  {
   "cell_type": "code",
   "execution_count": 42,
   "metadata": {},
   "outputs": [
    {
     "name": "stdout",
     "output_type": "stream",
     "text": [
      "{'code': '121', 'pin': 0}\n"
     ]
    }
   ],
   "source": [
    "dic['pin']=00\n",
    "print(dic)"
   ]
  },
  {
   "cell_type": "code",
   "execution_count": 43,
   "metadata": {},
   "outputs": [
    {
     "name": "stdout",
     "output_type": "stream",
     "text": [
      "{'code': '121', 'pin': 0}\n"
     ]
    }
   ],
   "source": [
    "d1 = dic.copy()\n",
    "print(d1)"
   ]
  },
  {
   "cell_type": "code",
   "execution_count": 44,
   "metadata": {},
   "outputs": [
    {
     "name": "stdout",
     "output_type": "stream",
     "text": [
      "{'math': 0, 'eng': 0, 'art': 0}\n"
     ]
    }
   ],
   "source": [
    "subjects  = {}.fromkeys(['math','eng','art'],0)\n",
    "print(subjects)"
   ]
  },
  {
   "cell_type": "code",
   "execution_count": 46,
   "metadata": {},
   "outputs": [
    {
     "name": "stdout",
     "output_type": "stream",
     "text": [
      "dict_keys([2, 3, 6])\n"
     ]
    }
   ],
   "source": [
    "subject ={2:4,3:5,6:5}\n",
    "print(subject.keys())"
   ]
  },
  {
   "cell_type": "code",
   "execution_count": 47,
   "metadata": {},
   "outputs": [
    {
     "name": "stdout",
     "output_type": "stream",
     "text": [
      "dict_items([(2, 4), (3, 5), (6, 5)])\n"
     ]
    }
   ],
   "source": [
    "print(subject.items())"
   ]
  },
  {
   "cell_type": "code",
   "execution_count": 49,
   "metadata": {},
   "outputs": [
    {
     "name": "stdout",
     "output_type": "stream",
     "text": [
      "dict_values([4, 5, 5])\n"
     ]
    }
   ],
   "source": [
    "print(subject.values())"
   ]
  },
  {
   "cell_type": "code",
   "execution_count": 52,
   "metadata": {},
   "outputs": [
    {
     "name": "stdout",
     "output_type": "stream",
     "text": [
      "['__class__', '__contains__', '__delattr__', '__delitem__', '__dir__', '__doc__', '__eq__', '__format__', '__ge__', '__getattribute__', '__getitem__', '__gt__', '__hash__', '__init__', '__init_subclass__', '__iter__', '__le__', '__len__', '__lt__', '__ne__', '__new__', '__reduce__', '__reduce_ex__', '__repr__', '__reversed__', '__setattr__', '__setitem__', '__sizeof__', '__str__', '__subclasshook__', 'clear', 'copy', 'fromkeys', 'get', 'items', 'keys', 'pop', 'popitem', 'setdefault', 'update', 'values']\n"
     ]
    }
   ],
   "source": [
    "d ={}\n",
    "print(dir(d))"
   ]
  },
  {
   "cell_type": "code",
   "execution_count": 56,
   "metadata": {},
   "outputs": [
    {
     "name": "stdout",
     "output_type": "stream",
     "text": [
      "('a', 1)\n",
      "('b', 2)\n",
      "('c', 3)\n"
     ]
    }
   ],
   "source": [
    "#Dict comprehensions are just like list comprehensions but for dictionaries\n",
    "\n",
    "d = {'a': 1, 'b': 2, 'c': 3}\n",
    "for pair in d.items():\n",
    "    print(pair)"
   ]
  },
  {
   "cell_type": "code",
   "execution_count": 57,
   "metadata": {},
   "outputs": [
    {
     "name": "stdout",
     "output_type": "stream",
     "text": [
      "{'c': 3, 'd': 4}\n"
     ]
    }
   ],
   "source": [
    "#Creating a new dictionary with only pairs where the value is larger than 2\n",
    "d = {'a': 1, 'b': 2, 'c': 3, 'd': 4}\n",
    "new_dict = {k:v for k, v in d.items() if v > 2}\n",
    "print(new_dict)"
   ]
  },
  {
   "cell_type": "code",
   "execution_count": 58,
   "metadata": {},
   "outputs": [
    {
     "name": "stdout",
     "output_type": "stream",
     "text": [
      "{'cc': 6, 'dc': 8, 'ec': 10}\n"
     ]
    }
   ],
   "source": [
    "#We can also perform operations on the key value pairs\n",
    "d = {'a':1,'b':2,'c':3,'d':4,'e':5}\n",
    "d = {k + 'c':v * 2 for k, v in d.items() if v > 2}\n",
    "print(d)"
   ]
  },
  {
   "cell_type": "code",
   "execution_count": 1,
   "metadata": {},
   "outputs": [
    {
     "name": "stdout",
     "output_type": "stream",
     "text": [
      "{1, 3, 4, 5}\n"
     ]
    },
    {
     "data": {
      "text/plain": [
       "set"
      ]
     },
     "execution_count": 1,
     "metadata": {},
     "output_type": "execute_result"
    }
   ],
   "source": [
    "#set\n",
    "s={1,3,4,5}\n",
    "print(s)\n",
    "type(s)"
   ]
  },
  {
   "cell_type": "code",
   "execution_count": 4,
   "metadata": {},
   "outputs": [
    {
     "data": {
      "text/plain": [
       "set"
      ]
     },
     "execution_count": 4,
     "metadata": {},
     "output_type": "execute_result"
    }
   ],
   "source": [
    "s= set()\n",
    "type(s)"
   ]
  },
  {
   "cell_type": "code",
   "execution_count": 12,
   "metadata": {},
   "outputs": [
    {
     "name": "stdout",
     "output_type": "stream",
     "text": [
      "{1, 3, 4, 5, 7}\n"
     ]
    }
   ],
   "source": [
    "s={1,3,4,5}\n",
    "s.add(7)\n",
    "print(s)"
   ]
  },
  {
   "cell_type": "code",
   "execution_count": 13,
   "metadata": {},
   "outputs": [
    {
     "name": "stdout",
     "output_type": "stream",
     "text": [
      "{1, 3, 4, 5, 7}\n"
     ]
    }
   ],
   "source": [
    "s.add(7)\n",
    "print(s)"
   ]
  },
  {
   "cell_type": "code",
   "execution_count": 23,
   "metadata": {},
   "outputs": [
    {
     "name": "stdout",
     "output_type": "stream",
     "text": [
      "{1, 3, 4, 5, 6, 7, 8, 9}\n"
     ]
    }
   ],
   "source": [
    "s.update([8,3,1,9],{8,5,6,3})\n",
    "print(s)"
   ]
  },
  {
   "cell_type": "code",
   "execution_count": 19,
   "metadata": {},
   "outputs": [
    {
     "name": "stdout",
     "output_type": "stream",
     "text": [
      "{1, 3, 4, 5, 7}\n"
     ]
    }
   ],
   "source": [
    "print(s)"
   ]
  },
  {
   "cell_type": "code",
   "execution_count": 24,
   "metadata": {},
   "outputs": [
    {
     "data": {
      "text/plain": [
       "1"
      ]
     },
     "execution_count": 24,
     "metadata": {},
     "output_type": "execute_result"
    }
   ],
   "source": [
    "s.pop()"
   ]
  },
  {
   "cell_type": "code",
   "execution_count": 25,
   "metadata": {},
   "outputs": [],
   "source": [
    "s.remove(3)"
   ]
  },
  {
   "cell_type": "code",
   "execution_count": 26,
   "metadata": {},
   "outputs": [
    {
     "name": "stdout",
     "output_type": "stream",
     "text": [
      "{4, 5, 6, 7, 8, 9}\n"
     ]
    }
   ],
   "source": [
    "print(s)"
   ]
  },
  {
   "cell_type": "code",
   "execution_count": 27,
   "metadata": {},
   "outputs": [],
   "source": [
    "s.discard(5)"
   ]
  },
  {
   "cell_type": "code",
   "execution_count": 28,
   "metadata": {},
   "outputs": [
    {
     "name": "stdout",
     "output_type": "stream",
     "text": [
      "{4, 6, 7, 8, 9}\n"
     ]
    }
   ],
   "source": [
    "print(s)"
   ]
  },
  {
   "cell_type": "code",
   "execution_count": 29,
   "metadata": {},
   "outputs": [
    {
     "name": "stdout",
     "output_type": "stream",
     "text": [
      "{1, 2, 3, 4, 5, 6, 7}\n"
     ]
    }
   ],
   "source": [
    "set1 = {1, 2, 3, 4, 5}\n",
    "set2 = {3, 4, 5, 6, 7}\n",
    "print(set1 | set2)"
   ]
  },
  {
   "cell_type": "code",
   "execution_count": 30,
   "metadata": {},
   "outputs": [
    {
     "name": "stdout",
     "output_type": "stream",
     "text": [
      "{1, 2, 3, 4, 5, 6, 7}\n"
     ]
    }
   ],
   "source": [
    "print(set1.union(set2))"
   ]
  },
  {
   "cell_type": "code",
   "execution_count": 31,
   "metadata": {},
   "outputs": [
    {
     "name": "stdout",
     "output_type": "stream",
     "text": [
      "{3, 4, 5}\n"
     ]
    }
   ],
   "source": [
    "print(set1 & set2)"
   ]
  },
  {
   "cell_type": "code",
   "execution_count": 32,
   "metadata": {},
   "outputs": [
    {
     "name": "stdout",
     "output_type": "stream",
     "text": [
      "{3, 4, 5}\n"
     ]
    }
   ],
   "source": [
    "print(set1.intersection(set2))"
   ]
  },
  {
   "cell_type": "code",
   "execution_count": 33,
   "metadata": {},
   "outputs": [
    {
     "name": "stdout",
     "output_type": "stream",
     "text": [
      "{1, 2}\n"
     ]
    }
   ],
   "source": [
    "print(set1 -set2)"
   ]
  },
  {
   "cell_type": "markdown",
   "metadata": {},
   "source": [
    "print(set2-set1)"
   ]
  },
  {
   "cell_type": "code",
   "execution_count": null,
   "metadata": {},
   "outputs": [],
   "source": []
  },
  {
   "cell_type": "code",
   "execution_count": 35,
   "metadata": {},
   "outputs": [
    {
     "name": "stdout",
     "output_type": "stream",
     "text": [
      "{1, 2, 6, 7}\n"
     ]
    }
   ],
   "source": [
    "print(set1 ^ set2)"
   ]
  },
  {
   "cell_type": "code",
   "execution_count": 36,
   "metadata": {},
   "outputs": [
    {
     "name": "stdout",
     "output_type": "stream",
     "text": [
      "{1, 2, 6, 7}\n"
     ]
    }
   ],
   "source": [
    "print(set1.symmetric_difference(set2))"
   ]
  },
  {
   "cell_type": "code",
   "execution_count": 37,
   "metadata": {},
   "outputs": [
    {
     "name": "stdout",
     "output_type": "stream",
     "text": [
      "set 'x' is subset of 'y' ? False\n",
      "set 'y' is subset of 'x' ? True\n"
     ]
    }
   ],
   "source": [
    "#find issubset()\n",
    "x = {\"a\",\"b\",\"c\",\"d\",\"e\"}\n",
    "y = {\"c\",\"d\"}\n",
    "\n",
    "print(\"set 'x' is subset of 'y' ?\", x.issubset(y)) #check x is subset of y\n",
    "\n",
    "#check y is subset of x\n",
    "print(\"set 'y' is subset of 'x' ?\", y.issubset(x))"
   ]
  },
  {
   "cell_type": "code",
   "execution_count": null,
   "metadata": {},
   "outputs": [],
   "source": [
    "Frozen Sets\n",
    "Frozen sets has the characteristics of sets, but we can't be changed once it's assigned. While tuple are immutable lists, frozen sets are immutable sets\n",
    "\n",
    "Frozensets can be created using the function frozenset()\n",
    "\n",
    "Sets being mutable are unhashable, so they can't be used as dictionary keys. On the other hand, frozensets are hashable and can be used as keys to a dictionary.\n",
    "\n",
    "This datatype supports methods like copy(), difference(), intersection(), isdisjoint(), issubset(), issuperset(), symmetric_difference() and union(). Being immutable it does not have method that add or remove elements.\n",
    "\n"
   ]
  },
  {
   "cell_type": "code",
   "execution_count": 38,
   "metadata": {},
   "outputs": [
    {
     "name": "stdout",
     "output_type": "stream",
     "text": [
      "frozenset({1, 2, 3, 4, 5, 6})\n"
     ]
    }
   ],
   "source": [
    "set1 = frozenset([1, 2, 3, 4])\n",
    "set2 = frozenset([3, 4, 5, 6])\n",
    "print(set1 |set2)"
   ]
  },
  {
   "cell_type": "code",
   "execution_count": 39,
   "metadata": {},
   "outputs": [
    {
     "name": "stdout",
     "output_type": "stream",
     "text": [
      "frozenset({1, 2, 5, 6})\n"
     ]
    }
   ],
   "source": [
    "print(set1 ^set2)"
   ]
  },
  {
   "cell_type": "code",
   "execution_count": 40,
   "metadata": {},
   "outputs": [
    {
     "name": "stdout",
     "output_type": "stream",
     "text": [
      "<class 'list'>\n",
      "<class 'set'>\n"
     ]
    }
   ],
   "source": [
    "a = [1, 2, 3]\n",
    "\n",
    "print(type(a))      #type of a is list \n",
    "\n",
    "s = set(a)          #convert list to set using set() method\n",
    "\n",
    "print(type(s))      #now type of s is set"
   ]
  },
  {
   "cell_type": "code",
   "execution_count": null,
   "metadata": {},
   "outputs": [],
   "source": []
  }
 ],
 "metadata": {
  "kernelspec": {
   "display_name": "Python 3",
   "language": "python",
   "name": "python3"
  },
  "language_info": {
   "codemirror_mode": {
    "name": "ipython",
    "version": 3
   },
   "file_extension": ".py",
   "mimetype": "text/x-python",
   "name": "python",
   "nbconvert_exporter": "python",
   "pygments_lexer": "ipython3",
   "version": "3.8.5"
  }
 },
 "nbformat": 4,
 "nbformat_minor": 4
}
