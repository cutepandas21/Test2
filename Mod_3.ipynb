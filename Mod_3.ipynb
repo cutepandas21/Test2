{
 "cells": [
  {
   "cell_type": "markdown",
   "metadata": {},
   "source": [
    "#conditional statements\n"
   ]
  },
  {
   "cell_type": "code",
   "execution_count": 8,
   "metadata": {},
   "outputs": [
    {
     "name": "stdout",
     "output_type": "stream",
     "text": [
      "enter a number:-1\n",
      "number is negative -1\n"
     ]
    }
   ],
   "source": [
    "\n",
    "x = int(input(\"enter a number:\"))\n",
    "\n",
    "if (x == 0):\n",
    "    print(\"number is :\",x)\n",
    "elif  x >0:\n",
    "    print(\"number is positive\",x)\n",
    "else:\n",
    "    print(\"number is negative\",x)\n",
    "    \n"
   ]
  },
  {
   "cell_type": "code",
   "execution_count": 2,
   "metadata": {},
   "outputs": [
    {
     "ename": "NameError",
     "evalue": "name 'm' is not defined",
     "output_type": "error",
     "traceback": [
      "\u001b[0;31m---------------------------------------------------------------------------\u001b[0m",
      "\u001b[0;31mNameError\u001b[0m                                 Traceback (most recent call last)",
      "\u001b[0;32m<ipython-input-2-4949cd97f252>\u001b[0m in \u001b[0;36m<module>\u001b[0;34m\u001b[0m\n\u001b[1;32m     21\u001b[0m \u001b[0;34m\u001b[0m\u001b[0m\n\u001b[1;32m     22\u001b[0m \u001b[0;34m\u001b[0m\u001b[0m\n\u001b[0;32m---> 23\u001b[0;31m \u001b[0mlist1\u001b[0m\u001b[0;34m(\u001b[0m\u001b[0mm\u001b[0m\u001b[0;34m,\u001b[0m \u001b[0mn\u001b[0m\u001b[0;34m)\u001b[0m\u001b[0;34m\u001b[0m\u001b[0;34m\u001b[0m\u001b[0m\n\u001b[0m",
      "\u001b[0;31mNameError\u001b[0m: name 'm' is not defined"
     ]
    }
   ],
   "source": [
    "def list1(m, n):\n",
    "    m = int(input())\n",
    "    n = int(input())    \n",
    "\n",
    "    p = []\n",
    "    q = []\n",
    "    for i in range(m):\n",
    "        p1 = int(input())\n",
    "        p.append(p1)\n",
    "\n",
    "    for j in range(n):\n",
    "         q1 = int(input())\n",
    "         q.append(q1)\n",
    "    #print(q)    \n",
    "    #new= p+q\n",
    "    #new.sort()\n",
    "    p.extend(q)\n",
    "    for i in sorted(p):\n",
    "        print(i, sep = '')\n",
    "\n",
    "\n",
    "        \n",
    "list1(m, n)"
   ]
  },
  {
   "cell_type": "code",
   "execution_count": 8,
   "metadata": {},
   "outputs": [
    {
     "name": "stdout",
     "output_type": "stream",
     "text": [
      "3\n",
      "4\n",
      "5\n",
      "6\n",
      "7\n",
      "8\n",
      "9\n",
      "10\n",
      "11\n",
      "5\n",
      "6\n",
      "7\n",
      "8\n",
      "9\n",
      "10\n",
      "11\n"
     ]
    }
   ],
   "source": [
    "list1(3,3)"
   ]
  },
  {
   "cell_type": "code",
   "execution_count": 7,
   "metadata": {},
   "outputs": [
    {
     "ename": "NameError",
     "evalue": "name 'Python' is not defined",
     "output_type": "error",
     "traceback": [
      "\u001b[0;31m---------------------------------------------------------------------------\u001b[0m",
      "\u001b[0;31mNameError\u001b[0m                                 Traceback (most recent call last)",
      "\u001b[0;32m<ipython-input-7-c99be0532b9b>\u001b[0m in \u001b[0;36m<module>\u001b[0;34m\u001b[0m\n\u001b[0;32m----> 1\u001b[0;31m \u001b[0mPython\u001b[0m\u001b[0;34m-\u001b[0m\u001b[0;34m-\u001b[0m\u001b[0mversion\u001b[0m\u001b[0;34m\u001b[0m\u001b[0;34m\u001b[0m\u001b[0m\n\u001b[0m",
      "\u001b[0;31mNameError\u001b[0m: name 'Python' is not defined"
     ]
    }
   ],
   "source": [
    "Python--version\n"
   ]
  },
  {
   "cell_type": "code",
   "execution_count": 16,
   "metadata": {},
   "outputs": [
    {
     "name": "stdout",
     "output_type": "stream",
     "text": [
      "0  2  4  6  8  10  12  14  16  18  "
     ]
    }
   ],
   "source": [
    "for i in range(10):\n",
    "    print(i*2, end='  ')\n",
    "   "
   ]
  },
  {
   "cell_type": "code",
   "execution_count": null,
   "metadata": {},
   "outputs": [],
   "source": []
  },
  {
   "cell_type": "code",
   "execution_count": 11,
   "metadata": {},
   "outputs": [
    {
     "data": {
      "text/plain": [
       "[5, 6, 7, 8, 9]"
      ]
     },
     "execution_count": 11,
     "metadata": {},
     "output_type": "execute_result"
    }
   ],
   "source": [
    "list(range(5,10))"
   ]
  },
  {
   "cell_type": "code",
   "execution_count": 12,
   "metadata": {},
   "outputs": [
    {
     "data": {
      "text/plain": [
       "[2, 4, 6, 8, 10, 12, 14, 16, 18]"
      ]
     },
     "execution_count": 12,
     "metadata": {},
     "output_type": "execute_result"
    }
   ],
   "source": [
    "list(range(2,20,2))"
   ]
  },
  {
   "cell_type": "code",
   "execution_count": 15,
   "metadata": {},
   "outputs": [
    {
     "name": "stdout",
     "output_type": "stream",
     "text": [
      "0 1 2 3 4 5 6 7 8 9 10 "
     ]
    }
   ],
   "source": [
    "i = 0\n",
    "while i<=10:\n",
    "    print(i, end=' ')\n",
    "    i+=1"
   ]
  },
  {
   "cell_type": "code",
   "execution_count": 39,
   "metadata": {},
   "outputs": [
    {
     "name": "stdout",
     "output_type": "stream",
     "text": [
      "4\n",
      "7\n",
      "-6198871656470064846\n"
     ]
    }
   ],
   "source": [
    "if __name__ == '__main__':\n",
    "    n = int(input())\n",
    "    integer_list = map(int, input().split())\n",
    "\n",
    "input_list = [int(x) for x in integer_list]\n",
    "t = tuple(input_list)\n",
    "print(hash(t))"
   ]
  },
  {
   "cell_type": "code",
   "execution_count": 40,
   "metadata": {},
   "outputs": [
    {
     "name": "stdout",
     "output_type": "stream",
     "text": [
      "4\n",
      "7\n",
      "-6198871656470064846\n"
     ]
    }
   ],
   "source": [
    "n = int(input())\n",
    "li = []\n",
    "for n in input().split():\n",
    "    li.append(int(n))\n",
    "t = tuple(li)\n",
    "print(hash(t))"
   ]
  },
  {
   "cell_type": "code",
   "execution_count": 44,
   "metadata": {},
   "outputs": [
    {
     "name": "stdout",
     "output_type": "stream",
     "text": [
      "\u001b[H\u001b[2J"
     ]
    }
   ],
   "source": [
    "clear\n"
   ]
  },
  {
   "cell_type": "code",
   "execution_count": 57,
   "metadata": {},
   "outputs": [
    {
     "name": "stdout",
     "output_type": "stream",
     "text": [
      "1 3 5 7 9 11 13 15 17 19 "
     ]
    }
   ],
   "source": [
    "#The break statement breaks-out of the loop entirely\n",
    "#The continue statement skips the remainder of the current loop, and goes to the next iteration\n",
    "\n",
    "for n in range(20):\n",
    "    if n % 2 == 0:     # if the remainder of n / 2 is 0, skip the rest of the loop\n",
    "        continue\n",
    "    print(n, end= ' ')    "
   ]
  },
  {
   "cell_type": "code",
   "execution_count": 60,
   "metadata": {},
   "outputs": [
    {
     "name": "stdout",
     "output_type": "stream",
     "text": [
      "[1, 1, 2, 3, 5, 8, 13, 21, 34, 55, 89]\n"
     ]
    }
   ],
   "source": [
    "#fibonocci series\n",
    "a,b = 0,1\n",
    "amax = 100\n",
    "l1 = []\n",
    "\n",
    "while True:\n",
    "    (a, b) = (b, a+b)\n",
    "    if a > amax:\n",
    "        break\n",
    "    l1.append(a)\n",
    "print(l1)\n",
    "        "
   ]
  },
  {
   "cell_type": "markdown",
   "metadata": {},
   "source": []
  },
  {
   "cell_type": "code",
   "execution_count": 65,
   "metadata": {},
   "outputs": [
    {
     "name": "stdout",
     "output_type": "stream",
     "text": [
      "[2, 3, 5, 7, 11, 13, 17, 19, 23, 29]\n"
     ]
    }
   ],
   "source": [
    "l1 =[]\n",
    "max1 = 30\n",
    "\n",
    "for n in range(2, max1):\n",
    "    for fact in l1:\n",
    "        if n % fact == 0:\n",
    "            break\n",
    "    else:  #no break\n",
    "        l1.append(n)\n",
    "print(l1)"
   ]
  },
  {
   "cell_type": "code",
   "execution_count": null,
   "metadata": {},
   "outputs": [],
   "source": [
    "Sample List : (8, 2, 3, -1, 7)\n",
    "Expected Output : -336\n",
    "    \n",
    "    "
   ]
  },
  {
   "cell_type": "code",
   "execution_count": 29,
   "metadata": {},
   "outputs": [
    {
     "name": "stdout",
     "output_type": "stream",
     "text": [
      "-336\n"
     ]
    }
   ],
   "source": [
    "s=1\n",
    "\n",
    "for i in [8, 2, 3, -1, 7]:\n",
    "    s *= i\n",
    "print(s)\n",
    "    "
   ]
  },
  {
   "cell_type": "code",
   "execution_count": 3,
   "metadata": {},
   "outputs": [
    {
     "name": "stdout",
     "output_type": "stream",
     "text": [
      "dcba4321\n"
     ]
    }
   ],
   "source": [
    "s1 =\"1234abcd\"\n",
    "\n",
    "print(s1[::-1])"
   ]
  },
  {
   "cell_type": "code",
   "execution_count": 7,
   "metadata": {},
   "outputs": [
    {
     "name": "stdout",
     "output_type": "stream",
     "text": [
      "Enter First Person's Age : 45\n",
      "Enter Second Person's Age : 45\n",
      "Enter Third Person's Age : 34\n",
      "The Oldest of All Three People is : 45\n",
      "The Youngest Of All Three People is : 34\n"
     ]
    }
   ],
   "source": [
    "num1 = int(input(\"Enter First Person's Age : \"))\n",
    "num2 = int(input(\"Enter Second Person's Age : \"))\n",
    "num3 = int(input(\"Enter Third Person's Age : \"))\n",
    "\n",
    "if (num1 >= num2)   and (num1 >= num3):\n",
    "    oldest  = num1\n",
    "elif (num2 >= num1) and (num2 >= num3):\n",
    "    oldest = num2\n",
    "else:\n",
    "    oldest = num3\n",
    "print(\"The Oldest of All Three People is :\", oldest)\n",
    "\n",
    "if (num1 <= num2)   and (num1 <= num3):\n",
    "    youngest = num1\n",
    "elif (num2 <= num1) and (num2<= num3):\n",
    "    youngest = num2\n",
    "else:\n",
    "    youngest = num3\n",
    "\n",
    "print(\"The Youngest Of All Three People is :\", youngest)"
   ]
  },
  {
   "cell_type": "code",
   "execution_count": 3,
   "metadata": {},
   "outputs": [
    {
     "name": "stdout",
     "output_type": "stream",
     "text": [
      "Input your password :Qerdf231@#\n",
      "Valid Password\n"
     ]
    }
   ],
   "source": [
    " import re\n",
    "p= input(\"Input your password :\")\n",
    "x = True\n",
    "while x:  \n",
    "    if (len(p)<6 or len(p)>12):\n",
    "        break\n",
    "    elif not re.search(\"[a-z]\",p):\n",
    "        break\n",
    "    elif not re.search(\"[0-9]\",p):\n",
    "        break\n",
    "    elif not re.search(\"[A-Z]\",p):\n",
    "        break\n",
    "    elif not re.search(\"[$#@]\",p):\n",
    "        break\n",
    "    elif re.search(\"\\s\",p):\n",
    "        break\n",
    "    else:\n",
    "        print(\"Valid Password\")\n",
    "        x=False\n",
    "        break\n",
    "\n",
    "if x:\n",
    "    print(\"Not a Valid Password\") "
   ]
  },
  {
   "cell_type": "code",
   "execution_count": 34,
   "metadata": {},
   "outputs": [
    {
     "name": "stdout",
     "output_type": "stream",
     "text": [
      " square of     : 1  is  1\n",
      " square of     : 2  is  4\n",
      " square of     : 3  is  9\n",
      " square of     : 4  is  16\n",
      " square of     : 5  is  25\n",
      " square of     : 6  is  36\n",
      " square of     : 7  is  49\n",
      " square of     : 8  is  64\n",
      " square of     : 9  is  81\n"
     ]
    }
   ],
   "source": [
    "i = 1\n",
    "\n",
    "while i*i <100:\n",
    "    print(\" square of     :\",i,\" is \", i*i)\n",
    "    i +=1"
   ]
  },
  {
   "cell_type": "code",
   "execution_count": 38,
   "metadata": {},
   "outputs": [
    {
     "name": "stdout",
     "output_type": "stream",
     "text": [
      "32\n"
     ]
    }
   ],
   "source": [
    "s =0 \n",
    "\n",
    "for i in [2,4,5,6,7,8]:\n",
    "    s += i\n",
    "print(s)"
   ]
  },
  {
   "cell_type": "code",
   "execution_count": 37,
   "metadata": {},
   "outputs": [
    {
     "name": "stdout",
     "output_type": "stream",
     "text": [
      "45\n"
     ]
    }
   ],
   "source": [
    "s=0\n",
    "for i in range(10):\n",
    "    s+= i\n",
    "print(s)"
   ]
  },
  {
   "cell_type": "code",
   "execution_count": 42,
   "metadata": {},
   "outputs": [
    {
     "name": "stdout",
     "output_type": "stream",
     "text": [
      "enter a number :-1\n",
      "Absolute value of number  -1   is 1\n"
     ]
    }
   ],
   "source": [
    "x = int(input(\"enter a number :\"))\n",
    "\n",
    "if x>0:\n",
    "    a =x\n",
    "else:\n",
    "    a = -x\n",
    "print(\"Absolute value of number \",x ,\"  is\", a)\n",
    "    "
   ]
  },
  {
   "cell_type": "code",
   "execution_count": 46,
   "metadata": {},
   "outputs": [
    {
     "name": "stdout",
     "output_type": "stream",
     "text": [
      "enter a float number :0\n",
      "equal to zero\n"
     ]
    }
   ],
   "source": [
    "f = float(input(\"enter a float number :\"))\n",
    "\n",
    "if (f>0):\n",
    "    print(\"positive number\")\n",
    "elif (f<0):\n",
    "    print(\"Negative number\")\n",
    "else:\n",
    "    print(\"equal to zero\")"
   ]
  },
  {
   "cell_type": "code",
   "execution_count": 48,
   "metadata": {},
   "outputs": [
    {
     "name": "stdout",
     "output_type": "stream",
     "text": [
      "negative number -1\n"
     ]
    }
   ],
   "source": [
    "l=[2,4,5,-1,0,9]\n",
    "\n",
    "for i in l:\n",
    "    if x <0:\n",
    "        break\n",
    "print(\"negative number\",x)   \n",
    "    "
   ]
  },
  {
   "cell_type": "code",
   "execution_count": 56,
   "metadata": {},
   "outputs": [
    {
     "name": "stdout",
     "output_type": "stream",
     "text": [
      "8 4 abeabe\n"
     ]
    }
   ],
   "source": [
    "#functions\n",
    "\n",
    "def double(x):\n",
    "    \"This function multiplies its argument by two.\"\n",
    "    return(x*2)\n",
    "\n",
    "print(double(4), double(2),double(\"abe\"))"
   ]
  },
  {
   "cell_type": "code",
   "execution_count": 57,
   "metadata": {},
   "outputs": [
    {
     "name": "stdout",
     "output_type": "stream",
     "text": [
      "The docstring is: This function multiplies its argument by two.\n",
      "Help on function double in module __main__:\n",
      "\n",
      "double(x)\n",
      "    This function multiplies its argument by two.\n",
      "\n"
     ]
    }
   ],
   "source": [
    "print(\"The docstring is:\", double.__doc__)\n",
    "help(double) \n"
   ]
  },
  {
   "cell_type": "code",
   "execution_count": 58,
   "metadata": {},
   "outputs": [
    {
     "name": "stdout",
     "output_type": "stream",
     "text": [
      "16\n"
     ]
    }
   ],
   "source": [
    "def name(x):\n",
    "    \"This is student\"\n",
    "    return(x**2)\n",
    "print(name(4))"
   ]
  },
  {
   "cell_type": "code",
   "execution_count": 64,
   "metadata": {},
   "outputs": [
    {
     "name": "stdout",
     "output_type": "stream",
     "text": [
      "This is student\n"
     ]
    }
   ],
   "source": [
    "print(name.__doc__)"
   ]
  },
  {
   "cell_type": "code",
   "execution_count": 65,
   "metadata": {},
   "outputs": [
    {
     "name": "stdout",
     "output_type": "stream",
     "text": [
      "Help on function name in module __main__:\n",
      "\n",
      "name(x)\n",
      "    This is student\n",
      "\n"
     ]
    }
   ],
   "source": [
    "help(name)"
   ]
  },
  {
   "cell_type": "code",
   "execution_count": 67,
   "metadata": {},
   "outputs": [
    {
     "name": "stdout",
     "output_type": "stream",
     "text": [
      "25\n"
     ]
    }
   ],
   "source": [
    "def sum_of_squares(a,b):\n",
    "    \"sum of two square numbers\"\n",
    "    return((a**2)+(b**2))\n",
    "print(sum_of_squares(3,4))"
   ]
  },
  {
   "cell_type": "code",
   "execution_count": 68,
   "metadata": {},
   "outputs": [
    {
     "name": "stdout",
     "output_type": "stream",
     "text": [
      "sum of two square numbers\n"
     ]
    }
   ],
   "source": [
    "print(sum_of_squares.__doc__)"
   ]
  },
  {
   "cell_type": "code",
   "execution_count": 69,
   "metadata": {},
   "outputs": [
    {
     "name": "stdout",
     "output_type": "stream",
     "text": [
      "Help on function sum_of_squares in module __main__:\n",
      "\n",
      "sum_of_squares(a, b)\n",
      "    sum of two square numbers\n",
      "\n"
     ]
    }
   ],
   "source": [
    "help(sum_of_squares)"
   ]
  },
  {
   "cell_type": "code",
   "execution_count": 77,
   "metadata": {},
   "outputs": [
    {
     "name": "stdout",
     "output_type": "stream",
     "text": [
      "4\n",
      "54\n"
     ]
    }
   ],
   "source": [
    "def sum_sqr_list(l1):\n",
    "    \"this is sum of squares of list elements\"\n",
    "    s = 0\n",
    "    for x in l1:\n",
    "        s += x**2\n",
    "    return(s)\n",
    "print(sum_sqr_list([-2]))\n",
    "print(sum_sqr_list([2,3,4,5]))"
   ]
  },
  {
   "cell_type": "code",
   "execution_count": 74,
   "metadata": {},
   "outputs": [
    {
     "name": "stdout",
     "output_type": "stream",
     "text": [
      "4\n",
      "45\n"
     ]
    }
   ],
   "source": [
    "#The strange looking argument notation (the star) is called argument packing. \n",
    "#It packs all the given positional arguments into a tuple t. \n",
    "# but it suffices now to say that tuples are immutable lists. \n",
    "#with the for loop we can iterate through all the elements in the tuple.\n",
    "\n",
    "\n",
    "def sum_of_squares(*t):\n",
    "    \"Computes the sum of squares of arbitrary number of arguments\"\n",
    "    s=0\n",
    "    for x in t:\n",
    "        s += x**2\n",
    "    return s\n",
    "print(sum_of_squares(-2))\n",
    "print(sum_of_squares(-2,4,5))"
   ]
  },
  {
   "cell_type": "code",
   "execution_count": 79,
   "metadata": {},
   "outputs": [
    {
     "name": "stdout",
     "output_type": "stream",
     "text": [
      "13\n"
     ]
    }
   ],
   "source": [
    "print(sum_sqr_list([2,3]))"
   ]
  },
  {
   "cell_type": "code",
   "execution_count": 81,
   "metadata": {},
   "outputs": [
    {
     "name": "stdout",
     "output_type": "stream",
     "text": [
      "13\n"
     ]
    }
   ],
   "source": [
    "print(sum_of_squares(2,3))"
   ]
  },
  {
   "cell_type": "code",
   "execution_count": 83,
   "metadata": {},
   "outputs": [
    {
     "name": "stdout",
     "output_type": "stream",
     "text": [
      "sum of squares: 50\n"
     ]
    }
   ],
   "source": [
    "lst = (3,4,5)\n",
    "print(\"sum of squares:\",sum_of_squares(*lst))"
   ]
  },
  {
   "cell_type": "code",
   "execution_count": 84,
   "metadata": {},
   "outputs": [
    {
     "name": "stdout",
     "output_type": "stream",
     "text": [
      "first 3 second 5 third 6\n"
     ]
    }
   ],
   "source": [
    "def names(a,b,c):\n",
    "    print(\"first\",a,\"second\",b,\"third\", c)\n",
    "names(3,5,6)    "
   ]
  },
  {
   "cell_type": "code",
   "execution_count": 86,
   "metadata": {},
   "outputs": [
    {
     "name": "stdout",
     "output_type": "stream",
     "text": [
      "3\n"
     ]
    }
   ],
   "source": [
    "add = lambda x, y: x + y\n",
    "print(add(1, 2))"
   ]
  },
  {
   "cell_type": "code",
   "execution_count": 87,
   "metadata": {},
   "outputs": [
    {
     "name": "stdout",
     "output_type": "stream",
     "text": [
      "1 -*- 2 -*- 3 |first -*- second -*- third |"
     ]
    }
   ],
   "source": [
    "print(1, 2, 3, end=' |', sep=' -*- ')\n",
    "print(\"first\", \"second\", \"third\", end=' |', sep=' -*- ')"
   ]
  },
  {
   "cell_type": "code",
   "execution_count": 88,
   "metadata": {},
   "outputs": [
    {
     "name": "stdout",
     "output_type": "stream",
     "text": [
      "1 -*- 2 -*- 3 |"
     ]
    }
   ],
   "source": [
    "print(1, 2, 3, end=' |', sep=' -*- ')"
   ]
  },
  {
   "cell_type": "code",
   "execution_count": 89,
   "metadata": {},
   "outputs": [
    {
     "name": "stdout",
     "output_type": "stream",
     "text": [
      "5.0\n",
      "4.497941445275415\n"
     ]
    }
   ],
   "source": [
    "def length(*t, degree=2):\n",
    "    \"\"\"Computes the length of the vector given as parameter. By default, it computes\n",
    "    the Euclidean distance (degree==2)\"\"\"\n",
    "    s=0\n",
    "    for x in t:\n",
    "        s += abs(x)**degree\n",
    "    return s**(1/degree)\n",
    "print(length(-4,3))\n",
    "print(length(-4,3, degree=3))"
   ]
  },
  {
   "cell_type": "code",
   "execution_count": 90,
   "metadata": {},
   "outputs": [
    {
     "name": "stdout",
     "output_type": "stream",
     "text": [
      "Computes the length of the vector given as parameter. By default, it computes\n",
      "    the Euclidean distance (degree==2)\n"
     ]
    }
   ],
   "source": [
    "print(length.__doc__)"
   ]
  },
  {
   "cell_type": "code",
   "execution_count": 1,
   "metadata": {},
   "outputs": [
    {
     "name": "stdout",
     "output_type": "stream",
     "text": [
      "3\n",
      "2\n"
     ]
    }
   ],
   "source": [
    "i=2           # global variable\n",
    "def f():\n",
    "    i=3       # this creates a new variable, it does not rebind the global i\n",
    "    print(i)  # This will print 3\n",
    "f()\n",
    "print(i)  "
   ]
  },
  {
   "cell_type": "code",
   "execution_count": 8,
   "metadata": {},
   "outputs": [
    {
     "name": "stdout",
     "output_type": "stream",
     "text": [
      "2\n",
      "5\n",
      "5\n",
      "5\n"
     ]
    }
   ],
   "source": [
    "i=2\n",
    "\n",
    "def f():\n",
    "    global i\n",
    "    i=5  #rebind the global i variable\n",
    "    print(i)\n",
    "    print(i)\n",
    "print(i)\n",
    "f()\n",
    "print(i)"
   ]
  },
  {
   "cell_type": "code",
   "execution_count": 9,
   "metadata": {},
   "outputs": [
    {
     "name": "stdout",
     "output_type": "stream",
     "text": [
      "3\n",
      "2\n"
     ]
    }
   ],
   "source": [
    "def f():            # outer function\n",
    "    b=2\n",
    "    def g():        # inner function\n",
    "        # nonlocal b # Without this nonlocal statement,\n",
    "        b=3         # this will create a new local variable\n",
    "        print(b)\n",
    "    g()\n",
    "    print(b)\n",
    "f()"
   ]
  },
  {
   "cell_type": "code",
   "execution_count": 10,
   "metadata": {},
   "outputs": [],
   "source": [
    "def TowerOfHanoi(n , source, destination, auxilliary): \n",
    "    if n==1: \n",
    "        print(\"Move disk 1 from source\",source,\"to destination\",destination)\n",
    "        return\n",
    "    TowerOfHanoi(n-1, source, auxilliary, destination) \n",
    "    print(\"Move disk\",n,\"from source\",source,\"to destination\",destination)\n",
    "    TowerOfHanoi(n-1, auxilliary, destination, source) "
   ]
  },
  {
   "cell_type": "code",
   "execution_count": 11,
   "metadata": {},
   "outputs": [
    {
     "name": "stdout",
     "output_type": "stream",
     "text": [
      "Move disk 1 from source A to destination B\n",
      "Move disk 2 from source A to destination C\n",
      "Move disk 1 from source B to destination C\n",
      "Move disk 3 from source A to destination B\n",
      "Move disk 1 from source C to destination A\n",
      "Move disk 2 from source C to destination B\n",
      "Move disk 1 from source A to destination B\n"
     ]
    }
   ],
   "source": [
    "# Driver code \n",
    "n = 3\n",
    "TowerOfHanoi(n,'A','B','C')  \n",
    "# A, C, B are the name of rods "
   ]
  },
  {
   "cell_type": "code",
   "execution_count": 12,
   "metadata": {},
   "outputs": [],
   "source": [
    "def th(n, sou, des, aux):\n",
    "    if n==1:\n",
    "        print(\"move disk 1 from source\", sou ,\"to destination\",des)\n",
    "        return\n",
    "    th(n-1,sou,aux,des)\n",
    "    print(\"move disk\",n,\"from source\",sou,\"to destination\",des)\n",
    "    th(n-1,aux,des,sou)\n"
   ]
  },
  {
   "cell_type": "code",
   "execution_count": 13,
   "metadata": {},
   "outputs": [
    {
     "name": "stdout",
     "output_type": "stream",
     "text": [
      "move disk 1 from source a to destination c\n",
      "move disk 2 from source a to destination b\n",
      "move disk 1 from source c to destination b\n"
     ]
    }
   ],
   "source": [
    "n=2\n",
    "th(n,'a','b','c')"
   ]
  },
  {
   "cell_type": "code",
   "execution_count": 20,
   "metadata": {},
   "outputs": [
    {
     "name": "stdout",
     "output_type": "stream",
     "text": [
      "Product is: 14400000\n"
     ]
    }
   ],
   "source": [
    "#find the product of all list elements\n",
    "lst = [10,20,30,40,60]\n",
    "\n",
    "product =1\n",
    "index = 0\n",
    "\n",
    "while index<len(lst):\n",
    "    product *= lst[index]\n",
    "    index += 1\n",
    "\n",
    "print(\"Product is: {}\".format(product))"
   ]
  },
  {
   "cell_type": "code",
   "execution_count": 21,
   "metadata": {},
   "outputs": [
    {
     "name": "stdout",
     "output_type": "stream",
     "text": [
      "1\n",
      "2\n",
      "3\n",
      "4\n",
      "5\n",
      "no item left in the list\n"
     ]
    }
   ],
   "source": [
    "numbers = [1, 2, 3,4,5]\n",
    "\n",
    "#iterating over the list\n",
    "index = 0\n",
    "while index < len(numbers):\n",
    "    print(numbers[index])\n",
    "    index += 1\n",
    "    \n",
    "else:\n",
    "    print(\"no item left in the list\")"
   ]
  },
  {
   "cell_type": "code",
   "execution_count": 11,
   "metadata": {},
   "outputs": [
    {
     "name": "stdout",
     "output_type": "stream",
     "text": [
      "Enter a number: 9\n",
      "9 is divisible by 3\n",
      "9 is NOT a Prime number\n"
     ]
    }
   ],
   "source": [
    "num = int(input(\"Enter a number: \"))        #convert string to int\n",
    "\n",
    "\n",
    "isDivisible = False;\n",
    "\n",
    "i=2;\n",
    "while i < num:\n",
    "    if num % i == 0:\n",
    "        isDivisible = True;\n",
    "        print (\"{} is divisible by {}\".format(num,i) )\n",
    "       # break\n",
    "    i += 1;\n",
    "    \n",
    "if isDivisible:\n",
    "    print(\"{} is NOT a Prime number\".format(num))\n",
    "else:\n",
    "    print(\"{} is a Prime number\".format(num))"
   ]
  },
  {
   "cell_type": "code",
   "execution_count": 4,
   "metadata": {},
   "outputs": [
    {
     "name": "stdout",
     "output_type": "stream",
     "text": [
      "enter a number4\n",
      "positive number\n"
     ]
    }
   ],
   "source": [
    "n=int(input(\"enter a number\"))\n",
    "\n",
    "if n>0:\n",
    "    print(\"positive number\")\n",
    "elif n<0:\n",
    "    print(\"negative number\")\n",
    "else:\n",
    "    print(\"zero\")"
   ]
  },
  {
   "cell_type": "code",
   "execution_count": 8,
   "metadata": {},
   "outputs": [
    {
     "name": "stdout",
     "output_type": "stream",
     "text": [
      "1\n",
      "2\n",
      "3\n",
      "outside the loop\n"
     ]
    }
   ],
   "source": [
    "num =[1,2,3,4,5]\n",
    "\n",
    "for num in num:\n",
    "    if num == 4:\n",
    "        break\n",
    "    print(num)\n",
    "else:\n",
    "    print(\"inside the loop\")\n",
    "\n",
    "print(\"outside the loop\")"
   ]
  },
  {
   "cell_type": "code",
   "execution_count": 26,
   "metadata": {},
   "outputs": [
    {
     "name": "stdout",
     "output_type": "stream",
     "text": [
      "1\n",
      "3\n",
      "5\n",
      "7\n",
      "9\n",
      "out of the block\n"
     ]
    }
   ],
   "source": [
    "num = [1,2,3,4,5,6,7,8,9]\n",
    "\n",
    "for i in num:\n",
    "    if (i % 2) == 0:\n",
    "        continue\n",
    "    print(i)\n",
    "else:   \n",
    "    print(\"out of the block\")"
   ]
  },
  {
   "cell_type": "code",
   "execution_count": 22,
   "metadata": {},
   "outputs": [
    {
     "name": "stdout",
     "output_type": "stream",
     "text": [
      "0\n",
      "5\n",
      "10\n",
      "15\n"
     ]
    }
   ],
   "source": [
    "for    i in range(0,20,5):\n",
    "    print(i)\n"
   ]
  },
  {
   "cell_type": "code",
   "execution_count": 28,
   "metadata": {},
   "outputs": [
    {
     "name": "stdout",
     "output_type": "stream",
     "text": [
      "2\n"
     ]
    }
   ],
   "source": [
    "numbers = [2,3,4,5,6,8,12]\n",
    "for item in numbers:\n",
    "    print(item)\n",
    "    if item % 2 == 0:\n",
    "        break\n",
    "else:\n",
    "    print(\"no item left in the list\")"
   ]
  },
  {
   "cell_type": "code",
   "execution_count": 30,
   "metadata": {},
   "outputs": [
    {
     "name": "stdout",
     "output_type": "stream",
     "text": [
      "Prime number between 20 and 60\n",
      "23\n",
      "29\n",
      "31\n",
      "37\n",
      "41\n",
      "43\n",
      "47\n",
      "53\n",
      "59\n"
     ]
    }
   ],
   "source": [
    "ind1 = 20\n",
    "ind2 = 60\n",
    "\n",
    "print(\"Prime number between {} and {}\" .format(ind1, ind2))\n",
    "\n",
    "for num in range(ind1, ind2+1):\n",
    "    if num>1:\n",
    "        divisble =False;\n",
    "    for index in range(2,num):\n",
    "        if num % index == 0:\n",
    "            divisble = True;\n",
    "    if not divisble:\n",
    "        print(num);\n",
    "        "
   ]
  },
  {
   "cell_type": "code",
   "execution_count": 32,
   "metadata": {},
   "outputs": [
    {
     "name": "stdout",
     "output_type": "stream",
     "text": [
      "enter a number 4\n",
      "enter a number 5\n",
      "enter a number 7\n",
      "enter a number 8\n",
      "enter a number 3\n",
      "enter a number 4\n",
      "enter a number 9\n",
      "enter a number 2\n",
      "enter a number 4\n",
      "enter a number 9\n",
      "enter a number 2\n",
      "enter a number 3\n",
      "enter a number 3\n",
      "enter a number 4\n",
      "enter a number 5\n",
      "enter a number 5\n",
      "enter a number 6\n",
      "Your guess correct\n"
     ]
    }
   ],
   "source": [
    "#random.randint(a, b)\n",
    "#Return a random integer N such that a <= N <= b. Alias for randrange(a, b+1).\n",
    "\n",
    "import random\n",
    "\n",
    "tnum, gnum= random.randint(1,10),0\n",
    "while tnum != gnum:\n",
    "    gnum = int(input(\"enter a number \"))\n",
    "    \n",
    "print(\"Your guess correct\")"
   ]
  },
  {
   "cell_type": "code",
   "execution_count": 12,
   "metadata": {},
   "outputs": [],
   "source": [
    "import re\n",
    "re.match(\"c\", \"abcdef\")    # No mat\n"
   ]
  },
  {
   "cell_type": "code",
   "execution_count": 5,
   "metadata": {},
   "outputs": [
    {
     "data": {
      "text/plain": [
       "<re.Match object; span=(2, 3), match='c'>"
      ]
     },
     "execution_count": 5,
     "metadata": {},
     "output_type": "execute_result"
    }
   ],
   "source": [
    "re.search(\"c\", \"abcdef\")"
   ]
  },
  {
   "cell_type": "code",
   "execution_count": 18,
   "metadata": {},
   "outputs": [
    {
     "data": {
      "text/plain": [
       "<re.Match object; span=(0, 1), match='a'>"
      ]
     },
     "execution_count": 18,
     "metadata": {},
     "output_type": "execute_result"
    }
   ],
   "source": [
    "re.search(\"^a\",\"abcdef\")"
   ]
  },
  {
   "cell_type": "code",
   "execution_count": 9,
   "metadata": {},
   "outputs": [],
   "source": [
    "re.match(\"^c\",\"abcde\")"
   ]
  },
  {
   "cell_type": "code",
   "execution_count": 10,
   "metadata": {},
   "outputs": [
    {
     "data": {
      "text/plain": [
       "<re.Match object; span=(0, 1), match='a'>"
      ]
     },
     "execution_count": 10,
     "metadata": {},
     "output_type": "execute_result"
    }
   ],
   "source": [
    "re.match(\"^a\",\"abcdef\")"
   ]
  },
  {
   "cell_type": "code",
   "execution_count": 14,
   "metadata": {},
   "outputs": [
    {
     "data": {
      "text/plain": [
       "<re.Match object; span=(4, 5), match='X'>"
      ]
     },
     "execution_count": 14,
     "metadata": {},
     "output_type": "execute_result"
    }
   ],
   "source": [
    "re.match('X', 'A\\nB\\nX', re.MULTILINE)  # No match\n",
    "re.search('^X', 'A\\nB\\nX', re.MULTILINE) "
   ]
  },
  {
   "cell_type": "code",
   "execution_count": null,
   "metadata": {},
   "outputs": [],
   "source": [
    "Number of classes held\n",
    "Number of classes attended.\n",
    "And print percentage of class attended\n",
    "Is student is allowed to sit in exam or not?"
   ]
  },
  {
   "cell_type": "code",
   "execution_count": 28,
   "metadata": {},
   "outputs": [
    {
     "name": "stdout",
     "output_type": "stream",
     "text": [
      "Number of classes held :10\n",
      "Number of classes attended :6\n",
      "Percentage of class attended :  60.0\n",
      "Student will not be allowed to sit in exam\n"
     ]
    }
   ],
   "source": [
    "num_class = int(input(\"Number of classes held :\"))\n",
    "num_att = int(input(\"Number of classes attended :\"))\n",
    "\n",
    "percentage = (num_att / num_class)*100\n",
    "print(\"Percentage of class attended : \",percentage)\n",
    "\n",
    "if percentage >= 75:\n",
    "    print(\"Student will be allowed to sit in exam\")\n",
    "else:\n",
    "    print(\"Student will not be allowed to sit in exam\")"
   ]
  },
  {
   "cell_type": "code",
   "execution_count": 49,
   "metadata": {},
   "outputs": [
    {
     "name": "stdout",
     "output_type": "stream",
     "text": [
      "Enter a number :23\n",
      "23 is  odd number\n",
      "Weird\n"
     ]
    }
   ],
   "source": [
    "# Given an integer, n, perform the following conditional actions:\n",
    "# If n is odd, print Weird\n",
    "# If n is even and in the inclusive range of 2 to 5, print Not Weird\n",
    "# If n is even and in the inclusive range of 6 to 20, print Weird\n",
    "# If n is even and greater than 20, print Not Weird\n",
    "\n",
    "\n",
    "n = int(input(\"Enter a number :\"))\n",
    "\n",
    "if n%2 == 1:\n",
    "        print(\"{} is  odd number\".format(n))\n",
    "        print(\"Weird\")\n",
    "        #  break;\n",
    "else:\n",
    "    print(\"{}  is even number\".format(n))\n",
    "    if (n>=2) and (n<=5):\n",
    "        print(\"Not weird\")\n",
    "    elif (n>=6) and (n<=20):\n",
    "        print(\"Weird\")\n",
    "    else:\n",
    "        print(\"Not Weird\")"
   ]
  },
  {
   "cell_type": "code",
   "execution_count": 4,
   "metadata": {},
   "outputs": [
    {
     "name": "stdout",
     "output_type": "stream",
     "text": [
      "Original String :  The quick Brown Fox\n",
      "No. of Upper case characters :  3\n",
      "No. of Lower case Characters :  13\n"
     ]
    }
   ],
   "source": [
    "#str1= 'The quick Brow Fox'\n",
    "\n",
    "def string_test(s):\n",
    "    d={\"UPPER_CASE\":0, \"LOWER_CASE\":0}\n",
    "    for c in s:\n",
    "        if c.isupper():\n",
    "           d[\"UPPER_CASE\"]+=1\n",
    "        elif c.islower():\n",
    "           d[\"LOWER_CASE\"]+=1\n",
    "        else:\n",
    "           pass\n",
    "    print (\"Original String : \", s)\n",
    "    print (\"No. of Upper case characters : \", d[\"UPPER_CASE\"])\n",
    "    print (\"No. of Lower case Characters : \", d[\"LOWER_CASE\"])\n",
    "\n",
    "string_test('The quick Brown Fox')"
   ]
  },
  {
   "cell_type": "code",
   "execution_count": 13,
   "metadata": {},
   "outputs": [
    {
     "name": "stdout",
     "output_type": "stream",
     "text": [
      "The quick Brown Fox\n",
      "3\n",
      "13\n"
     ]
    }
   ],
   "source": [
    "def str_test(s):\n",
    "    uc =0\n",
    "    lc =0\n",
    "    for i in s:\n",
    "        if i.isupper():\n",
    "            uc+= 1\n",
    "        elif i.islower():\n",
    "            lc +=1\n",
    "      #  else:\n",
    "    \n",
    "    print(s)\n",
    "    print(uc)\n",
    "    print(lc)\n",
    "    \n",
    "str_test('The quick Brown Fox')"
   ]
  },
  {
   "cell_type": "code",
   "execution_count": 12,
   "metadata": {},
   "outputs": [
    {
     "name": "stdout",
     "output_type": "stream",
     "text": [
      "3 13\n"
     ]
    }
   ],
   "source": [
    "def upper_lower(string):\n",
    "    lowercase = 0\n",
    "    uppercase = 0\n",
    "\n",
    "    for letter in string:\n",
    "        if letter.isupper():\n",
    "            uppercase += 1\n",
    "        elif letter.islower():\n",
    "            lowercase += 1\n",
    "\n",
    "    print(uppercase, lowercase)\n",
    "\n",
    "upper_lower('The quick Brown Fox')"
   ]
  },
  {
   "cell_type": "code",
   "execution_count": null,
   "metadata": {},
   "outputs": [],
   "source": []
  }
 ],
 "metadata": {
  "kernelspec": {
   "display_name": "Python 3",
   "language": "python",
   "name": "python3"
  },
  "language_info": {
   "codemirror_mode": {
    "name": "ipython",
    "version": 3
   },
   "file_extension": ".py",
   "mimetype": "text/x-python",
   "name": "python",
   "nbconvert_exporter": "python",
   "pygments_lexer": "ipython3",
   "version": "3.8.5"
  }
 },
 "nbformat": 4,
 "nbformat_minor": 4
}
